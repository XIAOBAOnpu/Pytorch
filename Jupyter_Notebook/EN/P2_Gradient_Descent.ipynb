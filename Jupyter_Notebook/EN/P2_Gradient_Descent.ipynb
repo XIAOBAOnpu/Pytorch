{
 "cells": [
  {
   "cell_type": "markdown",
   "id": "4dfce068-90d9-4f30-92e4-e9b5c4f92a95",
   "metadata": {},
   "source": [
    "## Gradient Descent"
   ]
  },
  {
   "cell_type": "markdown",
   "id": "3a4c0445-4cec-4e50-91a6-798e066f960d",
   "metadata": {},
   "source": [
    "Before entering into the second part, let's have a recap of the first part:  \n",
    "+ These are the things done in the first part:\n",
    "    + create a linear model\n",
    "    + iterate over the weight from 0 to 5\n",
    "    + calculate the loss using the loss function define in the model\n",
    "    + plot the loss vs. weight\n",
    "    + determine the opt weight using your EYES...\n",
    "\n",
    "Everything seems goood, except the last step, i.e. *determine the opt weight using your EYES*, which seems too stupid for an engineer and not is not realistic in real case.  \n",
    "Therefore, in this part we will use gradient descent, i.e. go to the opposite direction \n",
    "of the gra, and the opt (min) can be found after several iterations.."
   ]
  },
  {
   "cell_type": "code",
   "execution_count": 8,
   "id": "830d0b18-8627-4e78-9858-405fd40ba770",
   "metadata": {},
   "outputs": [],
   "source": [
    "import numpy as np\n",
    "import matplotlib.pyplot as plt"
   ]
  },
  {
   "cell_type": "markdown",
   "id": "91c0445e-e32c-4a9e-bf98-2be33a0433af",
   "metadata": {},
   "source": [
    "### Step 1: Define the model:"
   ]
  },
  {
   "cell_type": "code",
   "execution_count": 9,
   "id": "77b5c58e-1708-4168-a933-2f7b614695f3",
   "metadata": {},
   "outputs": [],
   "source": [
    "# Define our model:\n",
    "class GradDescentModel:\n",
    "    def __init__(self, weight):\n",
    "        self.weight = weight\n",
    "\n",
    "    def forward(self, input_x):\n",
    "        return input_x * self.weight\n",
    "\n",
    "    # for traditional grad descent, we will not use loss function\n",
    "    # we use cost function instead.\n",
    "    # Differences? -> loss refers to single sample\n",
    "    #              -> cost refers to average error over all samples\n",
    "    def cost_function(self, input_x, true_output_y):\n",
    "        loss = 0\n",
    "        for x, y in zip(input_x, true_output_y):\n",
    "            output_prediction = self.forward(x)\n",
    "            # sum up all the losses for later averaging\n",
    "            loss += (output_prediction - y) ** 2\n",
    "        return loss / len(input_x)\n",
    "\n",
    "    def grad(self, input_x, output_y):\n",
    "        # reset grad after using it\n",
    "        grad = 0\n",
    "        # accumulate all the grad of the sample and calc. its average\n",
    "        for x, y in zip(input_x, output_y):\n",
    "            grad += 2 * x * (x * self.weight - y)\n",
    "        return grad / len(input_x)\n",
    "\n",
    "# Define initial value in here:\n",
    "weight = 1\n",
    "lr = 0.01   # can try play with learning rate here\n",
    "\n",
    "# Training set\n",
    "x = np.arange(1.0, 10.0, 1.0)\n",
    "y = 3 * x\n",
    "\n",
    "# Initialize some data for plotting\n",
    "epoch_list = []\n",
    "cost_list = []"
   ]
  },
  {
   "cell_type": "markdown",
   "id": "61ac6e05-a0bf-4c2a-8d69-6904c4848016",
   "metadata": {},
   "source": [
    "### Step 2: Iterating and trying to find opt weight using GD:"
   ]
  },
  {
   "cell_type": "code",
   "execution_count": 11,
   "id": "dc7db88c-d907-4d24-96df-72621f7997fd",
   "metadata": {},
   "outputs": [
    {
     "name": "stdout",
     "output_type": "stream",
     "text": [
      "Before starting, the weight is:  3.0\n",
      "\tEpoch =  0 \t | Weight =  3.0 \t | Cost =  0.0\n",
      "\tEpoch =  1 \t | Weight =  3.0 \t | Cost =  0.0\n",
      "\tEpoch =  2 \t | Weight =  3.0 \t | Cost =  0.0\n",
      "\tEpoch =  3 \t | Weight =  3.0 \t | Cost =  0.0\n",
      "\tEpoch =  4 \t | Weight =  3.0 \t | Cost =  0.0\n",
      "\tEpoch =  5 \t | Weight =  3.0 \t | Cost =  0.0\n",
      "\tEpoch =  6 \t | Weight =  3.0 \t | Cost =  0.0\n",
      "\tEpoch =  7 \t | Weight =  3.0 \t | Cost =  0.0\n",
      "\tEpoch =  8 \t | Weight =  3.0 \t | Cost =  0.0\n",
      "\tEpoch =  9 \t | Weight =  3.0 \t | Cost =  0.0\n",
      "\tEpoch =  10 \t | Weight =  3.0 \t | Cost =  0.0\n",
      "\tEpoch =  11 \t | Weight =  3.0 \t | Cost =  0.0\n",
      "\tEpoch =  12 \t | Weight =  3.0 \t | Cost =  0.0\n",
      "\tEpoch =  13 \t | Weight =  3.0 \t | Cost =  0.0\n",
      "\tEpoch =  14 \t | Weight =  3.0 \t | Cost =  0.0\n",
      "\tEpoch =  15 \t | Weight =  3.0 \t | Cost =  0.0\n",
      "\tEpoch =  16 \t | Weight =  3.0 \t | Cost =  0.0\n",
      "\tEpoch =  17 \t | Weight =  3.0 \t | Cost =  0.0\n",
      "\tEpoch =  18 \t | Weight =  3.0 \t | Cost =  0.0\n",
      "\tEpoch =  19 \t | Weight =  3.0 \t | Cost =  0.0\n",
      "\tEpoch =  20 \t | Weight =  3.0 \t | Cost =  0.0\n",
      "\tEpoch =  21 \t | Weight =  3.0 \t | Cost =  0.0\n",
      "\tEpoch =  22 \t | Weight =  3.0 \t | Cost =  0.0\n",
      "\tEpoch =  23 \t | Weight =  3.0 \t | Cost =  0.0\n",
      "\tEpoch =  24 \t | Weight =  3.0 \t | Cost =  0.0\n",
      "\tEpoch =  25 \t | Weight =  3.0 \t | Cost =  0.0\n",
      "\tEpoch =  26 \t | Weight =  3.0 \t | Cost =  0.0\n",
      "\tEpoch =  27 \t | Weight =  3.0 \t | Cost =  0.0\n",
      "\tEpoch =  28 \t | Weight =  3.0 \t | Cost =  0.0\n",
      "\tEpoch =  29 \t | Weight =  3.0 \t | Cost =  0.0\n",
      "\tEpoch =  30 \t | Weight =  3.0 \t | Cost =  0.0\n",
      "\tEpoch =  31 \t | Weight =  3.0 \t | Cost =  0.0\n",
      "\tEpoch =  32 \t | Weight =  3.0 \t | Cost =  0.0\n",
      "\tEpoch =  33 \t | Weight =  3.0 \t | Cost =  0.0\n",
      "\tEpoch =  34 \t | Weight =  3.0 \t | Cost =  0.0\n",
      "\tEpoch =  35 \t | Weight =  3.0 \t | Cost =  0.0\n",
      "\tEpoch =  36 \t | Weight =  3.0 \t | Cost =  0.0\n",
      "\tEpoch =  37 \t | Weight =  3.0 \t | Cost =  0.0\n",
      "\tEpoch =  38 \t | Weight =  3.0 \t | Cost =  0.0\n",
      "\tEpoch =  39 \t | Weight =  3.0 \t | Cost =  0.0\n",
      "\tEpoch =  40 \t | Weight =  3.0 \t | Cost =  0.0\n",
      "\tEpoch =  41 \t | Weight =  3.0 \t | Cost =  0.0\n",
      "\tEpoch =  42 \t | Weight =  3.0 \t | Cost =  0.0\n",
      "\tEpoch =  43 \t | Weight =  3.0 \t | Cost =  0.0\n",
      "\tEpoch =  44 \t | Weight =  3.0 \t | Cost =  0.0\n",
      "\tEpoch =  45 \t | Weight =  3.0 \t | Cost =  0.0\n",
      "\tEpoch =  46 \t | Weight =  3.0 \t | Cost =  0.0\n",
      "\tEpoch =  47 \t | Weight =  3.0 \t | Cost =  0.0\n",
      "\tEpoch =  48 \t | Weight =  3.0 \t | Cost =  0.0\n",
      "\tEpoch =  49 \t | Weight =  3.0 \t | Cost =  0.0\n",
      "\tEpoch =  50 \t | Weight =  3.0 \t | Cost =  0.0\n",
      "\tEpoch =  51 \t | Weight =  3.0 \t | Cost =  0.0\n",
      "\tEpoch =  52 \t | Weight =  3.0 \t | Cost =  0.0\n",
      "\tEpoch =  53 \t | Weight =  3.0 \t | Cost =  0.0\n",
      "\tEpoch =  54 \t | Weight =  3.0 \t | Cost =  0.0\n",
      "\tEpoch =  55 \t | Weight =  3.0 \t | Cost =  0.0\n",
      "\tEpoch =  56 \t | Weight =  3.0 \t | Cost =  0.0\n",
      "\tEpoch =  57 \t | Weight =  3.0 \t | Cost =  0.0\n",
      "\tEpoch =  58 \t | Weight =  3.0 \t | Cost =  0.0\n",
      "\tEpoch =  59 \t | Weight =  3.0 \t | Cost =  0.0\n",
      "\tEpoch =  60 \t | Weight =  3.0 \t | Cost =  0.0\n",
      "\tEpoch =  61 \t | Weight =  3.0 \t | Cost =  0.0\n",
      "\tEpoch =  62 \t | Weight =  3.0 \t | Cost =  0.0\n",
      "\tEpoch =  63 \t | Weight =  3.0 \t | Cost =  0.0\n",
      "\tEpoch =  64 \t | Weight =  3.0 \t | Cost =  0.0\n",
      "\tEpoch =  65 \t | Weight =  3.0 \t | Cost =  0.0\n",
      "\tEpoch =  66 \t | Weight =  3.0 \t | Cost =  0.0\n",
      "\tEpoch =  67 \t | Weight =  3.0 \t | Cost =  0.0\n",
      "\tEpoch =  68 \t | Weight =  3.0 \t | Cost =  0.0\n",
      "\tEpoch =  69 \t | Weight =  3.0 \t | Cost =  0.0\n",
      "\tEpoch =  70 \t | Weight =  3.0 \t | Cost =  0.0\n",
      "\tEpoch =  71 \t | Weight =  3.0 \t | Cost =  0.0\n",
      "\tEpoch =  72 \t | Weight =  3.0 \t | Cost =  0.0\n",
      "\tEpoch =  73 \t | Weight =  3.0 \t | Cost =  0.0\n",
      "\tEpoch =  74 \t | Weight =  3.0 \t | Cost =  0.0\n",
      "\tEpoch =  75 \t | Weight =  3.0 \t | Cost =  0.0\n",
      "\tEpoch =  76 \t | Weight =  3.0 \t | Cost =  0.0\n",
      "\tEpoch =  77 \t | Weight =  3.0 \t | Cost =  0.0\n",
      "\tEpoch =  78 \t | Weight =  3.0 \t | Cost =  0.0\n",
      "\tEpoch =  79 \t | Weight =  3.0 \t | Cost =  0.0\n",
      "\tEpoch =  80 \t | Weight =  3.0 \t | Cost =  0.0\n",
      "\tEpoch =  81 \t | Weight =  3.0 \t | Cost =  0.0\n",
      "\tEpoch =  82 \t | Weight =  3.0 \t | Cost =  0.0\n",
      "\tEpoch =  83 \t | Weight =  3.0 \t | Cost =  0.0\n",
      "\tEpoch =  84 \t | Weight =  3.0 \t | Cost =  0.0\n",
      "\tEpoch =  85 \t | Weight =  3.0 \t | Cost =  0.0\n",
      "\tEpoch =  86 \t | Weight =  3.0 \t | Cost =  0.0\n",
      "\tEpoch =  87 \t | Weight =  3.0 \t | Cost =  0.0\n",
      "\tEpoch =  88 \t | Weight =  3.0 \t | Cost =  0.0\n",
      "\tEpoch =  89 \t | Weight =  3.0 \t | Cost =  0.0\n",
      "\tEpoch =  90 \t | Weight =  3.0 \t | Cost =  0.0\n",
      "\tEpoch =  91 \t | Weight =  3.0 \t | Cost =  0.0\n",
      "\tEpoch =  92 \t | Weight =  3.0 \t | Cost =  0.0\n",
      "\tEpoch =  93 \t | Weight =  3.0 \t | Cost =  0.0\n",
      "\tEpoch =  94 \t | Weight =  3.0 \t | Cost =  0.0\n",
      "\tEpoch =  95 \t | Weight =  3.0 \t | Cost =  0.0\n",
      "\tEpoch =  96 \t | Weight =  3.0 \t | Cost =  0.0\n",
      "\tEpoch =  97 \t | Weight =  3.0 \t | Cost =  0.0\n",
      "\tEpoch =  98 \t | Weight =  3.0 \t | Cost =  0.0\n",
      "\tEpoch =  99 \t | Weight =  3.0 \t | Cost =  0.0\n",
      "After starting, the weight is:  3.0\n"
     ]
    }
   ],
   "source": [
    "print('Before starting, the weight is: ', weight)\n",
    "\n",
    "for epoch in range(100):\n",
    "    model = GradDescentModel(weight)\n",
    "    cost_validation = model.cost_function(x, y)\n",
    "    grad_validation = model.grad(x, y)\n",
    "    weight -= lr * grad_validation\n",
    "    print('\\tEpoch = ', epoch, '\\t | Weight = ', weight, '\\t | Cost = ', cost_validation)\n",
    "    cost_list.append(cost_validation)\n",
    "    epoch_list.append(epoch)\n",
    "print('After starting, the weight is: ', weight)\n"
   ]
  },
  {
   "cell_type": "code",
   "execution_count": 12,
   "id": "7d7fd804-5896-4c16-8498-44b67419a6d3",
   "metadata": {},
   "outputs": [
    {
     "data": {
      "image/png": "[encoded data removed]",
      "text/plain": [
       "<Figure size 640x480 with 1 Axes>"
      ]
     },
     "metadata": {},
     "output_type": "display_data"
    }
   ],
   "source": [
    "plt.plot(epoch_list, cost_list)\n",
    "plt.ylabel('Cost')\n",
    "plt.xlabel('Epoch')\n",
    "plt.show()"
   ]
  },
  {
   "cell_type": "code",
   "execution_count": null,
   "id": "e96e0c08-1811-4333-be38-60549eb89a8a",
   "metadata": {},
   "outputs": [],
   "source": []
  }
 ],
 "metadata": {
  "kernelspec": {
   "display_name": "Python 3 (ipykernel)",
   "language": "python",
   "name": "python3"
  },
  "language_info": {
   "codemirror_mode": {
    "name": "ipython",
    "version": 3
   },
   "file_extension": ".py",
   "mimetype": "text/x-python",
   "name": "python",
   "nbconvert_exporter": "python",
   "pygments_lexer": "ipython3",
   "version": "3.12.4"
  }
 },
 "nbformat": 4,
 "nbformat_minor": 5
}
